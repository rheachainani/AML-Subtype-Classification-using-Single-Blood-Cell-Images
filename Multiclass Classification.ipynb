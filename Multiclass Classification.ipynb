{
 "cells": [
  {
   "cell_type": "code",
   "execution_count": 9,
   "metadata": {
    "execution": {
     "iopub.execute_input": "2024-11-13T13:10:55.447141Z",
     "iopub.status.busy": "2024-11-13T13:10:55.446635Z",
     "iopub.status.idle": "2024-11-13T13:10:55.489898Z",
     "shell.execute_reply": "2024-11-13T13:10:55.488794Z",
     "shell.execute_reply.started": "2024-11-13T13:10:55.447080Z"
    }
   },
   "outputs": [],
   "source": [
    "# Import necessary libraries\n",
    "import numpy as np\n",
    "import pandas as pd\n",
    "import xgboost as xgb\n",
    "import lightgbm as lgb\n",
    "from catboost import CatBoostClassifier\n",
    "from sklearn.ensemble import RandomForestClassifier, VotingClassifier\n",
    "from imblearn.over_sampling import SMOTE\n",
    "from sklearn.model_selection import train_test_split\n",
    "from sklearn.metrics import accuracy_score, classification_report\n",
    "from sklearn.preprocessing import LabelEncoder\n",
    "from collections import Counter\n",
    "from tensorflow.keras.models import Sequential\n",
    "from tensorflow.keras.layers import Dense, Dropout\n",
    "from scikeras.wrappers import KerasClassifier"
   ]
  },
  {
   "cell_type": "code",
   "execution_count": 10,
   "metadata": {
    "execution": {
     "iopub.execute_input": "2024-11-13T13:10:57.192077Z",
     "iopub.status.busy": "2024-11-13T13:10:57.190773Z",
     "iopub.status.idle": "2024-11-13T13:10:57.208807Z",
     "shell.execute_reply": "2024-11-13T13:10:57.207713Z",
     "shell.execute_reply.started": "2024-11-13T13:10:57.192022Z"
    }
   },
   "outputs": [],
   "source": [
    "# Load dataset\n",
    "data = pd.read_csv('/kaggle/input/aml-with-target/all_patients_cell_counts_with_target.csv')"
   ]
  },
  {
   "cell_type": "code",
   "execution_count": 11,
   "metadata": {
    "execution": {
     "iopub.execute_input": "2024-11-13T13:11:00.740262Z",
     "iopub.status.busy": "2024-11-13T13:11:00.738916Z",
     "iopub.status.idle": "2024-11-13T13:11:00.746605Z",
     "shell.execute_reply": "2024-11-13T13:11:00.745427Z",
     "shell.execute_reply.started": "2024-11-13T13:11:00.740207Z"
    }
   },
   "outputs": [],
   "source": [
    "# Split data into features (X) and target (y)\n",
    "X = data.drop(columns=['target', 'patient'])  \n",
    "y = data['target']"
   ]
  },
  {
   "cell_type": "code",
   "execution_count": 12,
   "metadata": {
    "execution": {
     "iopub.execute_input": "2024-11-13T13:11:13.652684Z",
     "iopub.status.busy": "2024-11-13T13:11:13.652212Z",
     "iopub.status.idle": "2024-11-13T13:11:13.664246Z",
     "shell.execute_reply": "2024-11-13T13:11:13.662962Z",
     "shell.execute_reply.started": "2024-11-13T13:11:13.652634Z"
    }
   },
   "outputs": [],
   "source": [
    "# Split data into train and test sets\n",
    "X_train, X_test, y_train, y_test = train_test_split(X, y, test_size=0.2, random_state=42)"
   ]
  },
  {
   "cell_type": "code",
   "execution_count": 13,
   "metadata": {
    "execution": {
     "iopub.execute_input": "2024-11-13T13:11:23.306976Z",
     "iopub.status.busy": "2024-11-13T13:11:23.305630Z",
     "iopub.status.idle": "2024-11-13T13:11:23.332211Z",
     "shell.execute_reply": "2024-11-13T13:11:23.330672Z",
     "shell.execute_reply.started": "2024-11-13T13:11:23.306923Z"
    }
   },
   "outputs": [],
   "source": [
    "# Apply SMOTE to balance the dataset\n",
    "smote = SMOTE(random_state=42)\n",
    "X_train_smote, y_train_smote = smote.fit_resample(X_train, y_train)"
   ]
  },
  {
   "cell_type": "code",
   "execution_count": 14,
   "metadata": {
    "execution": {
     "iopub.execute_input": "2024-11-13T13:11:31.691687Z",
     "iopub.status.busy": "2024-11-13T13:11:31.691267Z",
     "iopub.status.idle": "2024-11-13T13:11:31.698379Z",
     "shell.execute_reply": "2024-11-13T13:11:31.697190Z",
     "shell.execute_reply.started": "2024-11-13T13:11:31.691646Z"
    }
   },
   "outputs": [],
   "source": [
    "# Calculate scale_pos_weight for each class for XGBoost\n",
    "class_counts = Counter(y_train_smote)\n",
    "scale_pos_weights = {cls: max(class_counts.values()) / count for cls, count in class_counts.items()}"
   ]
  },
  {
   "cell_type": "code",
   "execution_count": 15,
   "metadata": {
    "execution": {
     "iopub.execute_input": "2024-11-13T13:11:43.303917Z",
     "iopub.status.busy": "2024-11-13T13:11:43.303505Z",
     "iopub.status.idle": "2024-11-13T13:11:43.310515Z",
     "shell.execute_reply": "2024-11-13T13:11:43.309218Z",
     "shell.execute_reply.started": "2024-11-13T13:11:43.303877Z"
    }
   },
   "outputs": [],
   "source": [
    "le = LabelEncoder()\n",
    "y_train_smote_encoded = le.fit_transform(y_train_smote)\n",
    "y_test_encoded = le.transform(y_test)"
   ]
  },
  {
   "cell_type": "code",
   "execution_count": 16,
   "metadata": {
    "execution": {
     "iopub.execute_input": "2024-11-13T13:11:54.481254Z",
     "iopub.status.busy": "2024-11-13T13:11:54.480811Z",
     "iopub.status.idle": "2024-11-13T13:11:54.487700Z",
     "shell.execute_reply": "2024-11-13T13:11:54.486212Z",
     "shell.execute_reply.started": "2024-11-13T13:11:54.481211Z"
    }
   },
   "outputs": [],
   "source": [
    "xgb_model = xgb.XGBClassifier(\n",
    "    scale_pos_weight=list(scale_pos_weights.values()), \n",
    "    use_label_encoder=False, \n",
    "    eval_metric='mlogloss', \n",
    "    random_state=42\n",
    ")"
   ]
  },
  {
   "cell_type": "code",
   "execution_count": 17,
   "metadata": {
    "execution": {
     "iopub.execute_input": "2024-11-13T13:12:00.599310Z",
     "iopub.status.busy": "2024-11-13T13:12:00.597911Z",
     "iopub.status.idle": "2024-11-13T13:12:00.609178Z",
     "shell.execute_reply": "2024-11-13T13:12:00.607927Z",
     "shell.execute_reply.started": "2024-11-13T13:12:00.599237Z"
    }
   },
   "outputs": [],
   "source": [
    "num_leaves = 2 ** 8  \n",
    "lgb_model = lgb.LGBMClassifier(\n",
    "    boosting_type='gbdt',\n",
    "    objective='multiclass',\n",
    "    num_class=len(scale_pos_weights),\n",
    "    metric='multi_logloss',\n",
    "    max_depth=8,\n",
    "    num_leaves=num_leaves,\n",
    "    learning_rate=0.1,\n",
    "    n_estimators=500\n",
    ")\n",
    "\n",
    "cat_model = CatBoostClassifier(\n",
    "    iterations=500, \n",
    "    depth=6, \n",
    "    learning_rate=0.1, \n",
    "    random_seed=42, \n",
    "    verbose=0\n",
    ")"
   ]
  },
  {
   "cell_type": "code",
   "execution_count": 18,
   "metadata": {
    "execution": {
     "iopub.execute_input": "2024-11-13T13:12:07.888743Z",
     "iopub.status.busy": "2024-11-13T13:12:07.888304Z",
     "iopub.status.idle": "2024-11-13T13:12:07.895021Z",
     "shell.execute_reply": "2024-11-13T13:12:07.893502Z",
     "shell.execute_reply.started": "2024-11-13T13:12:07.888702Z"
    }
   },
   "outputs": [],
   "source": [
    "# Random Forest\n",
    "rf_model = RandomForestClassifier(n_estimators=200, random_state=42)"
   ]
  },
  {
   "cell_type": "code",
   "execution_count": 19,
   "metadata": {
    "execution": {
     "iopub.execute_input": "2024-11-13T13:12:13.868230Z",
     "iopub.status.busy": "2024-11-13T13:12:13.867783Z",
     "iopub.status.idle": "2024-11-13T13:12:13.877271Z",
     "shell.execute_reply": "2024-11-13T13:12:13.875475Z",
     "shell.execute_reply.started": "2024-11-13T13:12:13.868187Z"
    }
   },
   "outputs": [],
   "source": [
    "def create_nn_model():\n",
    "    model = Sequential()\n",
    "    model.add(Dense(64, input_dim=X_train.shape[1], activation='relu'))\n",
    "    model.add(Dropout(0.3))\n",
    "    model.add(Dense(32, activation='relu'))\n",
    "    model.add(Dropout(0.3))\n",
    "    model.add(Dense(len(le.classes_), activation='softmax'))  # Output layer for multiclass classification\n",
    "    model.compile(optimizer='adam', loss='sparse_categorical_crossentropy', metrics=['accuracy'])\n",
    "    return model"
   ]
  },
  {
   "cell_type": "code",
   "execution_count": 20,
   "metadata": {
    "execution": {
     "iopub.execute_input": "2024-11-13T13:12:19.605005Z",
     "iopub.status.busy": "2024-11-13T13:12:19.604586Z",
     "iopub.status.idle": "2024-11-13T13:12:19.610508Z",
     "shell.execute_reply": "2024-11-13T13:12:19.609276Z",
     "shell.execute_reply.started": "2024-11-13T13:12:19.604963Z"
    }
   },
   "outputs": [],
   "source": [
    "# Wrap the neural network model using SciKerasClassifier\n",
    "nn_model = KerasClassifier(model=create_nn_model, epochs=50, batch_size=16, verbose=0)"
   ]
  },
  {
   "cell_type": "code",
   "execution_count": 21,
   "metadata": {
    "execution": {
     "iopub.execute_input": "2024-11-13T13:12:26.247712Z",
     "iopub.status.busy": "2024-11-13T13:12:26.247226Z",
     "iopub.status.idle": "2024-11-13T13:12:26.253851Z",
     "shell.execute_reply": "2024-11-13T13:12:26.252662Z",
     "shell.execute_reply.started": "2024-11-13T13:12:26.247666Z"
    }
   },
   "outputs": [],
   "source": [
    "# Combine the models in a Voting Ensemble with soft voting\n",
    "voting_model = VotingClassifier(\n",
    "    estimators=[\n",
    "        ('rf', rf_model),\n",
    "        ('xgb', xgb_model),\n",
    "        ('cat', cat_model),\n",
    "        ('lgb', lgb_model),\n",
    "        ('nn', nn_model)  \n",
    "    ],\n",
    "    voting='soft'  # Use soft voting to account for prediction probabilities\n",
    ")"
   ]
  },
  {
   "cell_type": "code",
   "execution_count": null,
   "metadata": {},
   "outputs": [],
   "source": [
    "# Train the voting ensemble on SMOTE-balanced data\n",
    "voting_model.fit(X_train_smote, y_train_smote)"
   ]
  },
  {
   "cell_type": "code",
   "execution_count": 23,
   "metadata": {
    "execution": {
     "iopub.execute_input": "2024-11-13T13:16:31.086262Z",
     "iopub.status.busy": "2024-11-13T13:16:31.085747Z",
     "iopub.status.idle": "2024-11-13T13:16:31.356432Z",
     "shell.execute_reply": "2024-11-13T13:16:31.355280Z",
     "shell.execute_reply.started": "2024-11-13T13:16:31.086219Z"
    }
   },
   "outputs": [
    {
     "name": "stdout",
     "output_type": "stream",
     "text": [
      "Voting Ensemble with SMOTE and Neural Network:\n",
      "Accuracy: 0.5\n",
      "               precision    recall  f1-score   support\n",
      "\n",
      "   CBFB_MYH11       0.25      0.33      0.29         6\n",
      "         NPM1       0.50      0.30      0.37        10\n",
      "     PML_RARA       0.50      0.67      0.57         3\n",
      "RUNX1_RUNX1T1       0.29      0.25      0.27         8\n",
      "      control       0.77      0.91      0.83        11\n",
      "\n",
      "     accuracy                           0.50        38\n",
      "    macro avg       0.46      0.49      0.47        38\n",
      " weighted avg       0.49      0.50      0.49        38\n",
      "\n"
     ]
    }
   ],
   "source": [
    "# Evaluate the ensemble model\n",
    "y_pred = voting_model.predict(X_test)\n",
    "print(\"Voting Ensemble with SMOTE and Neural Network:\")\n",
    "print(\"Accuracy:\", accuracy_score(y_test, y_pred))\n",
    "print(classification_report(y_test, y_pred, target_names=le.classes_))"
   ]
  }
 ],
 "metadata": {
  "kaggle": {
   "accelerator": "none",
   "dataSources": [
    {
     "datasetId": 6076460,
     "sourceId": 9893485,
     "sourceType": "datasetVersion"
    }
   ],
   "dockerImageVersionId": 30786,
   "isGpuEnabled": false,
   "isInternetEnabled": true,
   "language": "python",
   "sourceType": "notebook"
  },
  "kernelspec": {
   "display_name": "Python 3 (ipykernel)",
   "language": "python",
   "name": "python3"
  },
  "language_info": {
   "codemirror_mode": {
    "name": "ipython",
    "version": 3
   },
   "file_extension": ".py",
   "mimetype": "text/x-python",
   "name": "python",
   "nbconvert_exporter": "python",
   "pygments_lexer": "ipython3",
   "version": "3.12.7"
  }
 },
 "nbformat": 4,
 "nbformat_minor": 4
}
